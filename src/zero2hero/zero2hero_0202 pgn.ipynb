{
 "cells": [
  {
   "cell_type": "markdown",
   "metadata": {},
   "source": [
    "# Zero to Hero"
   ]
  },
  {
   "cell_type": "markdown",
   "metadata": {},
   "source": [
    "## 2.02 Optimizacion Bayesiana DOS variables"
   ]
  },
  {
   "cell_type": "raw",
   "metadata": {},
   "source": [
    "El objetivo es mostrar como funciona la Optimizacion Bayesiana en el caso DOS variables y una superficie irregular"
   ]
  },
  {
   "cell_type": "markdown",
   "metadata": {},
   "source": [
    "### El código"
   ]
  },
  {
   "cell_type": "markdown",
   "metadata": {},
   "source": [
    "( por favor, verificar **antes** que se tienen instaladas todas las librerias necesarias, en particular plotly )"
   ]
  },
  {
   "cell_type": "code",
   "execution_count": 12,
   "metadata": {
    "tags": [],
    "vscode": {
     "languageId": "r"
    }
   },
   "outputs": [
    {
     "data": {
      "text/html": [
       "<table class=\"dataframe\">\n",
       "<caption>A matrix: 2 × 6 of type dbl</caption>\n",
       "<thead>\n",
       "\t<tr><th></th><th scope=col>used</th><th scope=col>(Mb)</th><th scope=col>gc trigger</th><th scope=col>(Mb)</th><th scope=col>max used</th><th scope=col>(Mb)</th></tr>\n",
       "</thead>\n",
       "<tbody>\n",
       "\t<tr><th scope=row>Ncells</th><td>2107327</td><td>112.6</td><td>4346687</td><td>232.2</td><td>2879570</td><td>153.8</td></tr>\n",
       "\t<tr><th scope=row>Vcells</th><td>3564506</td><td> 27.2</td><td>8388608</td><td> 64.0</td><td>6620919</td><td> 50.6</td></tr>\n",
       "</tbody>\n",
       "</table>\n"
      ],
      "text/latex": [
       "A matrix: 2 × 6 of type dbl\n",
       "\\begin{tabular}{r|llllll}\n",
       "  & used & (Mb) & gc trigger & (Mb) & max used & (Mb)\\\\\n",
       "\\hline\n",
       "\tNcells & 2107327 & 112.6 & 4346687 & 232.2 & 2879570 & 153.8\\\\\n",
       "\tVcells & 3564506 &  27.2 & 8388608 &  64.0 & 6620919 &  50.6\\\\\n",
       "\\end{tabular}\n"
      ],
      "text/markdown": [
       "\n",
       "A matrix: 2 × 6 of type dbl\n",
       "\n",
       "| <!--/--> | used | (Mb) | gc trigger | (Mb) | max used | (Mb) |\n",
       "|---|---|---|---|---|---|---|\n",
       "| Ncells | 2107327 | 112.6 | 4346687 | 232.2 | 2879570 | 153.8 |\n",
       "| Vcells | 3564506 |  27.2 | 8388608 |  64.0 | 6620919 |  50.6 |\n",
       "\n"
      ],
      "text/plain": [
       "       used    (Mb)  gc trigger (Mb)  max used (Mb) \n",
       "Ncells 2107327 112.6 4346687    232.2 2879570  153.8\n",
       "Vcells 3564506  27.2 8388608     64.0 6620919   50.6"
      ]
     },
     "metadata": {},
     "output_type": "display_data"
    },
    {
     "name": "stderr",
     "output_type": "stream",
     "text": [
      "Loading required package: plotly\n",
      "\n",
      "Error: package or namespace load failed for 'plotly' in loadNamespace(i, c(lib.loc, .libPaths()), versionCheck = vI[[i]]):\n",
      " namespace 'htmltools' 0.5.3 is already loaded, but >= 0.5.4 is required\n",
      "\n"
     ]
    }
   ],
   "source": [
    "#Ejemplo de optimizacion bayesiana, univariada\n",
    "\n",
    "#limpio la memoria\n",
    "rm( list=ls() )  #remove all objects\n",
    "gc()             #garbage collection\n",
    "\n",
    "require(\"data.table\")\n",
    "require(\"plotly\")\n",
    "\n",
    "#paquetes necesarios para la Bayesian Optimization\n",
    "require(\"DiceKriging\")\n",
    "require(\"mlrMBO\")\n",
    "\n",
    "options(repr.plot.width=20, repr.plot.height=10)"
   ]
  },
  {
   "cell_type": "markdown",
   "metadata": {},
   "source": [
    "### Defino la funcion a optimizar"
   ]
  },
  {
   "cell_type": "code",
   "execution_count": 6,
   "metadata": {
    "tags": [],
    "vscode": {
     "languageId": "r"
    }
   },
   "outputs": [],
   "source": [
    "func_volcano  <- function( x )\n",
    "{\n",
    "  z  <- volcano[ x$b, x$a ]\n",
    "\n",
    "  return( z )\n",
    "}"
   ]
  },
  {
   "cell_type": "markdown",
   "metadata": {},
   "source": [
    "Grafico el volcan"
   ]
  },
  {
   "cell_type": "code",
   "execution_count": 9,
   "metadata": {
    "tags": [],
    "vscode": {
     "languageId": "r"
    }
   },
   "outputs": [
    {
     "ename": "ERROR",
     "evalue": "Error in plotly(z = volcano, type = \"surface\"): no se pudo encontrar la función \"plotly\"\n",
     "output_type": "error",
     "traceback": [
      "Error in plotly(z = volcano, type = \"surface\"): no se pudo encontrar la función \"plotly\"\nTraceback:\n"
     ]
    }
   ],
   "source": [
    "p <- plot_ly(z = volcano, type = \"surface\")\n",
    "p "
   ]
  },
  {
   "cell_type": "markdown",
   "metadata": {},
   "source": [
    "La funcion tiene varios maximos locales"
   ]
  },
  {
   "cell_type": "markdown",
   "metadata": {},
   "source": [
    "* **fn**    es el nombre de la funcion\n",
    "* **minimize**   por defecto es TRUE,  pero en este caso le asigno FALSE, ya que deseo maximizar  el valor\n",
    "* **par.set**  indica cuales son los hiperparmetros de la funcion, en este caso hay una sola variable que llamé  x\n",
    "---\n",
    "* **makeIntegerParam** indica que ese hiperparámetro es un numero entero ( que NO es un numero real continuo )"
   ]
  },
  {
   "cell_type": "code",
   "execution_count": null,
   "metadata": {
    "tags": [],
    "vscode": {
     "languageId": "r"
    }
   },
   "outputs": [],
   "source": [
    "configureMlr( show.learner.output = FALSE)\n",
    "\n",
    "obj.fun  <- makeSingleObjectiveFunction(\n",
    "              fn=       func_volcano,\n",
    "              minimize= FALSE,   #estoy Maximizando la ganancia\n",
    "              has.simple.signature = FALSE,  #porque tengo DOS dimensiones\n",
    "              par.set=  makeParamSet(  makeIntegerParam( \"a\", lower= 1, upper=  61),\n",
    "                                       makeIntegerParam( \"b\", lower= 1, upper=  87)\n",
    "                                    ),\n",
    "             )"
   ]
  },
  {
   "cell_type": "markdown",
   "metadata": {},
   "source": [
    "ahora defino la funcion proxy, la que se construye internamente intentando emular la realidad"
   ]
  },
  {
   "cell_type": "markdown",
   "metadata": {},
   "source": [
    "* **cl**  es la clase de learner,  \"reg.km\" indica el método de kriging \"**reg**ression **k**riging **m**ethodd\"\n",
    "* **predict.type**  es el tipo de prediccion que deseo me devuelva, \"se\" significa que espero dos valores  media y standard error\n",
    "* **covtype**    es la funcion de covarianza que se va a utilizar, cual es la covarianza de dos mediciones como fucion de la distancia entre los puntos donde fueron tomadas las mediciones, fue inventada por Bertil Matérn "
   ]
  },
  {
   "cell_type": "markdown",
   "metadata": {},
   "source": [
    "El método de kriging puede verse en su forma original (la geología) , esta presentación https://www.youtube.com/watch?v=ZB7GvJrNKq0"
   ]
  },
  {
   "cell_type": "code",
   "execution_count": null,
   "metadata": {
    "tags": [],
    "vscode": {
     "languageId": "r"
    }
   },
   "outputs": [],
   "source": [
    "fproxy  <- makeLearner( cl= \"regr.km\",\n",
    "                        predict.type= \"se\", \n",
    "                        covtype= \"matern3_2\" )"
   ]
  },
  {
   "cell_type": "markdown",
   "metadata": {},
   "source": [
    "ultima definicion,  especificar la optimizacion bayesiana\n",
    "*  **crit**   indica el criterio con el que se completan los valores iniciales \"no inteligentes\"\n",
    "*  **iters**  indica la cantidad de iteraciones inteligentes que hará la Optimizacion Bayesiana, las que son adicionales a las primeras cuatro de este caso.*  **iters**  indica la cantidad de iteraciones inteligentes que hará la Optimizacion Bayesiana, las que son adicionales a las primeras cuatro de este caso."
   ]
  },
  {
   "cell_type": "code",
   "execution_count": null,
   "metadata": {
    "tags": [],
    "vscode": {
     "languageId": "r"
    }
   },
   "outputs": [],
   "source": [
    "ctrl  <- makeMBOControl()\n",
    "ctrl  <- setMBOControlInfill( ctrl, crit= makeMBOInfillCritEI())\n",
    "ctrl  <- setMBOControlTermination( ctrl, iters= 20 )"
   ]
  },
  {
   "cell_type": "markdown",
   "metadata": {},
   "source": [
    "finalmente , lanzo la Optimizacion Bayesiana"
   ]
  },
  {
   "cell_type": "markdown",
   "metadata": {},
   "source": [
    "* **fun**  es la especificacion de la funcion que deseo optimizar, si maximizo o minimizo, cuales son las variables de la misma\n",
    "* **learner**  especifica cual es la función proxy interna que va a utilizar la Optimziación Bayesiana\n",
    "* **control**  indica la la forma en que se harán las iteraciones"
   ]
  },
  {
   "cell_type": "code",
   "execution_count": null,
   "metadata": {
    "tags": [],
    "vscode": {
     "languageId": "r"
    }
   },
   "outputs": [],
   "source": [
    "run  <- mbo( fun=     obj.fun, \n",
    "             learner= fproxy, \n",
    "             control= ctrl )"
   ]
  },
  {
   "cell_type": "code",
   "execution_count": null,
   "metadata": {
    "tags": [],
    "vscode": {
     "languageId": "r"
    }
   },
   "outputs": [],
   "source": [
    "tb_resultados  <- as.data.table( run$opt.path )"
   ]
  },
  {
   "cell_type": "code",
   "execution_count": null,
   "metadata": {
    "tags": [],
    "vscode": {
     "languageId": "r"
    }
   },
   "outputs": [],
   "source": [
    "tb_resultados"
   ]
  },
  {
   "cell_type": "code",
   "execution_count": null,
   "metadata": {
    "tags": [],
    "vscode": {
     "languageId": "r"
    }
   },
   "outputs": [],
   "source": [
    "tb_resultados[ which.max( tb_resultados$y ) ]"
   ]
  },
  {
   "cell_type": "markdown",
   "metadata": {},
   "source": [
    "### Conclusiones"
   ]
  },
  {
   "cell_type": "markdown",
   "metadata": {},
   "source": [
    "* ¿Qué tan lejos estoy de encontrar el máximo absoluto con 25 iteraciones?\n",
    "* ¿Qué sucede si aumento la cantidad de iteraciones?"
   ]
  }
 ],
 "metadata": {
  "kernelspec": {
   "display_name": "R",
   "language": "R",
   "name": "ir"
  },
  "language_info": {
   "codemirror_mode": "r",
   "file_extension": ".r",
   "mimetype": "text/x-r-source",
   "name": "R",
   "pygments_lexer": "r",
   "version": "4.2.3"
  }
 },
 "nbformat": 4,
 "nbformat_minor": 4
}
