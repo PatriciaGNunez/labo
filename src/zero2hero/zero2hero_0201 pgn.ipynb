{
 "cells": [
  {
   "cell_type": "markdown",
   "metadata": {},
   "source": [
    "# Zero to Hero"
   ]
  },
  {
   "cell_type": "markdown",
   "metadata": {},
   "source": [
    "## 2.01 Optimizacion Bayesiana"
   ]
  },
  {
   "cell_type": "raw",
   "metadata": {},
   "source": [
    "El objetivo es mostrar como funciona la Optimizacion Bayesiana en el caso mas simple : una funcion univariada"
   ]
  },
  {
   "cell_type": "markdown",
   "metadata": {},
   "source": [
    "### Advertencia"
   ]
  },
  {
   "cell_type": "markdown",
   "metadata": {},
   "source": [
    "El uso del método de Optimización Bayesiana para la optimización de hiperparámetros en modelos predictivos tiene menos de una década.\n",
    "Entender los fundamentos de la O.B. requieren de una sólida formación matemática y **no** son el objetivo de esta asignatura.\n",
    "Para quienes deseen aventurarse a los detalles técnicos:\n",
    "* El paper original de la libreria mlrMBO (año 2018 )   https://arxiv.org/pdf/1703.03373.pdf\n",
    "* El método de Kriging , tal cual se deriva del uso original, en este pequeño libro de 106 páginas \"Basic Steps in Geostatistics: The Variogram and Kriging\" https://www.pdfdrive.com/basic-steps-in-geostatistics-the-variogram-and-kriging-e187336318.html"
   ]
  },
  {
   "cell_type": "markdown",
   "metadata": {},
   "source": [
    "### El código"
   ]
  },
  {
   "cell_type": "code",
   "execution_count": 5,
   "metadata": {
    "tags": [],
    "vscode": {
     "languageId": "r"
    }
   },
   "outputs": [
    {
     "data": {
      "text/html": [
       "<table class=\"dataframe\">\n",
       "<caption>A matrix: 2 × 6 of type dbl</caption>\n",
       "<thead>\n",
       "\t<tr><th></th><th scope=col>used</th><th scope=col>(Mb)</th><th scope=col>gc trigger</th><th scope=col>(Mb)</th><th scope=col>max used</th><th scope=col>(Mb)</th></tr>\n",
       "</thead>\n",
       "<tbody>\n",
       "\t<tr><th scope=row>Ncells</th><td> 638424</td><td>34.1</td><td>1295994</td><td>69.3</td><td>1295994</td><td>69.3</td></tr>\n",
       "\t<tr><th scope=row>Vcells</th><td>1151091</td><td> 8.8</td><td>8388608</td><td>64.0</td><td>1632313</td><td>12.5</td></tr>\n",
       "</tbody>\n",
       "</table>\n"
      ],
      "text/latex": [
       "A matrix: 2 × 6 of type dbl\n",
       "\\begin{tabular}{r|llllll}\n",
       "  & used & (Mb) & gc trigger & (Mb) & max used & (Mb)\\\\\n",
       "\\hline\n",
       "\tNcells &  638424 & 34.1 & 1295994 & 69.3 & 1295994 & 69.3\\\\\n",
       "\tVcells & 1151091 &  8.8 & 8388608 & 64.0 & 1632313 & 12.5\\\\\n",
       "\\end{tabular}\n"
      ],
      "text/markdown": [
       "\n",
       "A matrix: 2 × 6 of type dbl\n",
       "\n",
       "| <!--/--> | used | (Mb) | gc trigger | (Mb) | max used | (Mb) |\n",
       "|---|---|---|---|---|---|---|\n",
       "| Ncells |  638424 | 34.1 | 1295994 | 69.3 | 1295994 | 69.3 |\n",
       "| Vcells | 1151091 |  8.8 | 8388608 | 64.0 | 1632313 | 12.5 |\n",
       "\n"
      ],
      "text/plain": [
       "       used    (Mb) gc trigger (Mb) max used (Mb)\n",
       "Ncells  638424 34.1 1295994    69.3 1295994  69.3\n",
       "Vcells 1151091  8.8 8388608    64.0 1632313  12.5"
      ]
     },
     "metadata": {},
     "output_type": "display_data"
    },
    {
     "name": "stderr",
     "output_type": "stream",
     "text": [
      "Loading required package: DiceKriging\n",
      "\n",
      "Loading required package: mlrMBO\n",
      "\n",
      "Loading required package: mlr\n",
      "\n",
      "Loading required package: ParamHelpers\n",
      "\n",
      "Warning message: 'mlr' is in 'maintenance-only' mode since July 2019.\n",
      "Future development will only happen in 'mlr3'\n",
      "(<https://mlr3.mlr-org.com>). Due to the focus on 'mlr3' there might be\n",
      "uncaught bugs meanwhile in {mlr} - please consider switching.\n",
      "\n",
      "Loading required package: smoof\n",
      "\n",
      "Loading required package: checkmate\n",
      "\n",
      "\n",
      "Attaching package: 'checkmate'\n",
      "\n",
      "\n",
      "The following object is masked from 'package:DiceKriging':\n",
      "\n",
      "    checkNames\n",
      "\n",
      "\n"
     ]
    }
   ],
   "source": [
    "#Ejemplo de optimizacion bayesiana, univariada\n",
    "\n",
    "#limpio la memoria\n",
    "rm( list=ls() )  #remove all objects\n",
    "gc()             #garbage collection\n",
    "\n",
    "require(\"data.table\")\n",
    "#paquetes necesarios para la Bayesian Optimization\n",
    "require(\"DiceKriging\")\n",
    "require(\"mlrMBO\")\n",
    "\n",
    "options(repr.plot.width=20, repr.plot.height=10)"
   ]
  },
  {
   "cell_type": "markdown",
   "metadata": {},
   "source": [
    "### Defino la funcion a optimizar, un polinomio de grado 4"
   ]
  },
  {
   "cell_type": "code",
   "execution_count": 6,
   "metadata": {
    "tags": [],
    "vscode": {
     "languageId": "r"
    }
   },
   "outputs": [],
   "source": [
    "func_univariada01  <- function( x )\n",
    "{\n",
    "  y  <- -2 * (x+13) * (x-3) * (x-7) * (x-19)\n",
    "\n",
    "  return( y )\n",
    "}"
   ]
  },
  {
   "cell_type": "markdown",
   "metadata": {},
   "source": [
    "Grafico la funcion"
   ]
  },
  {
   "cell_type": "code",
   "execution_count": 7,
   "metadata": {
    "tags": [],
    "vscode": {
     "languageId": "r"
    }
   },
   "outputs": [
    {
     "data": {
      "image/png": "[encoded data removed]",
      "text/plain": [
       "plot without title"
      ]
     },
     "metadata": {
      "image/png": {
       "height": 600,
       "width": 1200
      }
     },
     "output_type": "display_data"
    }
   ],
   "source": [
    "intervalo  <- seq(-15,21,0.1)\n",
    "plot(intervalo, func_univariada01(intervalo))"
   ]
  },
  {
   "cell_type": "markdown",
   "metadata": {},
   "source": [
    "La funcion tiene dos máximos, uno de ellos es el global."
   ]
  },
  {
   "cell_type": "markdown",
   "metadata": {},
   "source": [
    "### Optimizacion Bayesiana"
   ]
  },
  {
   "cell_type": "markdown",
   "metadata": {},
   "source": [
    "¿Qué tan rápido encontrará la Optmización Bayesiana el máximo global?"
   ]
  },
  {
   "cell_type": "markdown",
   "metadata": {},
   "source": [
    "Defino las caracteristicas de la optimizacion"
   ]
  },
  {
   "cell_type": "markdown",
   "metadata": {},
   "source": [
    "* **fn**    es el nombre de la funcion\n",
    "* **minimize**   por defecto es TRUE,  pero en este caso le asigno FALSE, ya que deseo maximizar  el valor\n",
    "* **par.set**  indica cuales son los hiperparmetros de la funcion, en este caso hay una sola variable que llamé  x\n",
    "---\n",
    "* **makeNumericParam** indica que ese hiperparámetro es un numero real, una variable continua  ( no es ni un entero ni una categoria )"
   ]
  },
  {
   "cell_type": "code",
   "execution_count": 8,
   "metadata": {
    "tags": [],
    "vscode": {
     "languageId": "r"
    }
   },
   "outputs": [],
   "source": [
    "obj.fun  <- makeSingleObjectiveFunction(\n",
    "              fn=       func_univariada01,\n",
    "              minimize= FALSE,   #estoy Maximizando la ganancia\n",
    "              par.set=  makeParamSet(  makeNumericParam( \"x\", lower= -100, upper=  100) ),\n",
    "             )"
   ]
  },
  {
   "cell_type": "markdown",
   "metadata": {},
   "source": [
    "ahora defino la funcion proxy, la que se construye internamente intentando emular la realidad"
   ]
  },
  {
   "cell_type": "markdown",
   "metadata": {},
   "source": [
    "* **cl**  es la clase de learner,  \"reg.km\" indica el método de kriging \"**reg**ression **k**riging **m**ethodd\"\n",
    "* **predict.type**  es el tipo de prediccion que deseo me devuelva, \"se\" significa que espero dos valores  media y standard error\n",
    "* **covtype**    es la funcion de covarianza que se va a utilizar, cual es la covarianza de dos mediciones como fucion de la distancia entre los puntos donde fueron tomadas las mediciones, fue inventada por Bertil Matérn "
   ]
  },
  {
   "cell_type": "markdown",
   "metadata": {},
   "source": [
    "El método de kriging puede verse en su forma original (la geología) , esta presentación https://www.youtube.com/watch?v=ZB7GvJrNKq0"
   ]
  },
  {
   "cell_type": "code",
   "execution_count": 9,
   "metadata": {
    "tags": [],
    "vscode": {
     "languageId": "r"
    }
   },
   "outputs": [],
   "source": [
    "fproxy  <- makeLearner( cl= \"regr.km\",\n",
    "                        predict.type= \"se\", \n",
    "                        covtype= \"matern3_2\" )"
   ]
  },
  {
   "cell_type": "markdown",
   "metadata": {},
   "source": [
    "ultima definicion,  especificar la optimizacion bayesiana\n",
    "*  **crit**   indica el criterio con el que se completan los valores iniciales \"no inteligentes\"\n",
    "*  **iters**  indica la cantidad de iteraciones inteligentes que hará la Optimizacion Bayesiana, las que son adicionales a las primeras cuatro de este caso.*  **iters**  indica la cantidad de iteraciones inteligentes que hará la Optimizacion Bayesiana, las que son adicionales a las primeras cuatro de este caso."
   ]
  },
  {
   "cell_type": "code",
   "execution_count": 10,
   "metadata": {
    "tags": [],
    "vscode": {
     "languageId": "r"
    }
   },
   "outputs": [],
   "source": [
    "ctrl  <- makeMBOControl()\n",
    "ctrl  <- setMBOControlInfill( ctrl, crit= makeMBOInfillCritEI())\n",
    "ctrl  <- setMBOControlTermination( ctrl, iters= 25 )"
   ]
  },
  {
   "cell_type": "markdown",
   "metadata": {},
   "source": [
    "finalmente , lanzo la Optimizacion Bayesiana"
   ]
  },
  {
   "cell_type": "markdown",
   "metadata": {},
   "source": [
    "* **fun**  es la especificacion de la funcion que deseo optimizar, si maximizo o minimizo, cuales son las variables de la misma\n",
    "* **learner**  especifica cual es la función proxy interna que va a utilizar la Optimziación Bayesiana\n",
    "* **control**  indica la la forma en que se harán las iteraciones"
   ]
  },
  {
   "cell_type": "code",
   "execution_count": 11,
   "metadata": {
    "tags": [],
    "vscode": {
     "languageId": "r"
    }
   },
   "outputs": [
    {
     "name": "stderr",
     "output_type": "stream",
     "text": [
      "Computing y column(s) for design. Not provided.\n",
      "\n",
      "[mbo] 0: x=19.9 : y = -1.23e+04 : 0.0 secs : initdesign\n",
      "\n",
      "[mbo] 0: x=-31.1 : y = -2.36e+06 : 0.0 secs : initdesign\n",
      "\n",
      "[mbo] 0: x=83.8 : y = -7.77e+07 : 0.0 secs : initdesign\n",
      "\n",
      "[mbo] 0: x=-52.3 : y = -1.84e+07 : 0.0 secs : initdesign\n",
      "\n"
     ]
    },
    {
     "name": "stdout",
     "output_type": "stream",
     "text": [
      "\n",
      "optimisation start\n",
      "------------------\n",
      "* estimation method   : MLE \n",
      "* optimisation method : BFGS \n",
      "* analytical gradient : used\n",
      "* trend model : ~1\n",
      "* covariance model : \n",
      "  - type :  matern3_2 \n",
      "  - nugget : NO\n",
      "  - parameters lower bounds :  1e-10 \n",
      "  - parameters upper bounds :  272.201 \n",
      "  - best initial criterion value(s) :  -74.40001 \n",
      "\n",
      "N = 1, M = 5 machine precision = 2.22045e-16\n",
      "At X0, 0 variables are exactly at the bounds\n",
      "At iterate     0  f=         74.4  |proj g|=     0.002969\n",
      "At iterate     1  f =         74.4  |proj g|=     0.0029675\n",
      "At iterate     2  f =       74.391  |proj g|=     0.0002734\n",
      "At iterate     3  f =       74.391  |proj g|=    3.0615e-05\n",
      "At iterate     4  f =       74.391  |proj g|=    3.9402e-07\n",
      "At iterate     5  f =       74.391  |proj g|=    5.8086e-10\n",
      "\n",
      "iterations 5\n",
      "function evaluations 6\n",
      "segments explored during Cauchy searches 5\n",
      "BFGS updates skipped 0\n",
      "active bounds at final generalized Cauchy point 0\n",
      "norm of the final projected gradient 5.80865e-10\n",
      "final function value 74.3905\n",
      "\n",
      "F = 74.3905\n",
      "final  value 74.390539 \n",
      "converged\n"
     ]
    },
    {
     "name": "stderr",
     "output_type": "stream",
     "text": [
      "[mbo] 1: x=-2.9 : y = 2.58e+04 : 0.0 secs : infill_ei\n",
      "\n"
     ]
    },
    {
     "name": "stdout",
     "output_type": "stream",
     "text": [
      "\n",
      "optimisation start\n",
      "------------------\n",
      "* estimation method   : MLE \n",
      "* optimisation method : BFGS \n",
      "* analytical gradient : used\n",
      "* trend model : ~1\n",
      "* covariance model : \n",
      "  - type :  matern3_2 \n",
      "  - nugget : NO\n",
      "  - parameters lower bounds :  1e-10 \n",
      "  - parameters upper bounds :  272.201 \n",
      "  - best initial criterion value(s) :  -91.75778 \n",
      "\n",
      "N = 1, M = 5 machine precision = 2.22045e-16\n",
      "At X0, 0 variables are exactly at the bounds\n",
      "At iterate     0  f=       91.758  |proj g|=    0.0011181\n",
      "At iterate     1  f =       91.758  |proj g|=     0.0011175\n",
      "At iterate     2  f =       91.757  |proj g|=     6.079e-05\n",
      "At iterate     3  f =       91.756  |proj g|=     3.555e-06\n",
      "At iterate     4  f =       91.756  |proj g|=    1.2263e-08\n",
      "\n",
      "iterations 4\n",
      "function evaluations 5\n",
      "segments explored during Cauchy searches 4\n",
      "BFGS updates skipped 0\n",
      "active bounds at final generalized Cauchy point 0\n",
      "norm of the final projected gradient 1.22627e-08\n",
      "final function value 91.7565\n",
      "\n",
      "F = 91.7565\n",
      "final  value 91.756498 \n",
      "converged\n"
     ]
    },
    {
     "name": "stderr",
     "output_type": "stream",
     "text": [
      "[mbo] 2: x=10.1 : y = 9.03e+03 : 0.0 secs : infill_ei\n",
      "\n"
     ]
    },
    {
     "name": "stdout",
     "output_type": "stream",
     "text": [
      "\n",
      "optimisation start\n",
      "------------------\n",
      "* estimation method   : MLE \n",
      "* optimisation method : BFGS \n",
      "* analytical gradient : used\n",
      "* trend model : ~1\n",
      "* covariance model : \n",
      "  - type :  matern3_2 \n",
      "  - nugget : NO\n",
      "  - parameters lower bounds :  1e-10 \n",
      "  - parameters upper bounds :  272.201 \n",
      "  - best initial criterion value(s) :  -107.7936 \n",
      "\n",
      "N = 1, M = 5 machine precision = 2.22045e-16\n",
      "At X0, 0 variables are exactly at the bounds\n",
      "At iterate     0  f=       107.79  |proj g|=    0.0014047\n",
      "At iterate     1  f =       107.79  |proj g|=     0.0014044\n",
      "At iterate     2  f =       107.79  |proj g|=    0.00023204\n",
      "At iterate     3  f =       107.79  |proj g|=    3.0917e-05\n",
      "At iterate     4  f =       107.79  |proj g|=    5.8072e-07\n",
      "At iterate     5  f =       107.79  |proj g|=    1.4892e-09\n",
      "\n",
      "iterations 5\n",
      "function evaluations 6\n",
      "segments explored during Cauchy searches 5\n",
      "BFGS updates skipped 0\n",
      "active bounds at final generalized Cauchy point 0\n",
      "norm of the final projected gradient 1.48922e-09\n",
      "final function value 107.789\n",
      "\n",
      "F = 107.789\n",
      "final  value 107.789050 \n",
      "converged\n"
     ]
    },
    {
     "name": "stderr",
     "output_type": "stream",
     "text": [
      "[mbo] 3: x=-16.8 : y = -1.26e+05 : 0.0 secs : infill_ei\n",
      "\n"
     ]
    },
    {
     "name": "stdout",
     "output_type": "stream",
     "text": [
      "\n",
      "optimisation start\n",
      "------------------\n",
      "* estimation method   : MLE \n",
      "* optimisation method : BFGS \n",
      "* analytical gradient : used\n",
      "* trend model : ~1\n",
      "* covariance model : \n",
      "  - type :  matern3_2 \n",
      "  - nugget : NO\n",
      "  - parameters lower bounds :  1e-10 \n",
      "  - parameters upper bounds :  272.201 \n",
      "  - best initial criterion value(s) :  -123.6749 \n",
      "\n",
      "N = 1, M = 5 machine precision = 2.22045e-16\n",
      "At X0, 0 variables are exactly at the bounds\n",
      "At iterate     0  f=       123.67  |proj g|=    0.0010451\n",
      "At iterate     1  f =       123.67  |proj g|=     0.0010449\n",
      "At iterate     2  f =       123.67  |proj g|=    9.1747e-05\n",
      "At iterate     3  f =       123.67  |proj g|=    8.9794e-06\n",
      "At iterate     4  f =       123.67  |proj g|=    8.7834e-08\n",
      "\n",
      "iterations 4\n",
      "function evaluations 5\n",
      "segments explored during Cauchy searches 4\n",
      "BFGS updates skipped 0\n",
      "active bounds at final generalized Cauchy point 0\n",
      "norm of the final projected gradient 8.78336e-08\n",
      "final function value 123.672\n",
      "\n",
      "F = 123.672\n",
      "final  value 123.671935 \n",
      "converged\n"
     ]
    },
    {
     "name": "stderr",
     "output_type": "stream",
     "text": [
      "[mbo] 4: x=15.6 : y = 2.11e+04 : 0.0 secs : infill_ei\n",
      "\n"
     ]
    },
    {
     "name": "stdout",
     "output_type": "stream",
     "text": [
      "\n",
      "optimisation start\n",
      "------------------\n",
      "* estimation method   : MLE \n",
      "* optimisation method : BFGS \n",
      "* analytical gradient : used\n",
      "* trend model : ~1\n",
      "* covariance model : \n",
      "  - type :  matern3_2 \n",
      "  - nugget : NO\n",
      "  - parameters lower bounds :  1e-10 \n",
      "  - parameters upper bounds :  272.201 \n",
      "  - best initial criterion value(s) :  -138.0782 \n",
      "\n",
      "N = 1, M = 5 machine precision = 2.22045e-16\n",
      "At X0, 0 variables are exactly at the bounds\n",
      "At iterate     0  f=       138.08  |proj g|=   0.00044552\n",
      "At iterate     1  f =       138.08  |proj g|=    0.00044547\n",
      "\n",
      "iterations 1\n",
      "function evaluations 2\n",
      "segments explored during Cauchy searches 1\n",
      "BFGS updates skipped 0\n",
      "active bounds at final generalized Cauchy point 0\n",
      "norm of the final projected gradient 0.000445474\n",
      "final function value 138.078\n",
      "\n",
      "F = 138.078\n",
      "final  value 138.078163 \n",
      "converged\n"
     ]
    },
    {
     "name": "stderr",
     "output_type": "stream",
     "text": [
      "[mbo] 5: x=-9.57 : y = 4.08e+04 : 0.0 secs : infill_ei\n",
      "\n"
     ]
    },
    {
     "name": "stdout",
     "output_type": "stream",
     "text": [
      "\n",
      "optimisation start\n",
      "------------------\n",
      "* estimation method   : MLE \n",
      "* optimisation method : BFGS \n",
      "* analytical gradient : used\n",
      "* trend model : ~1\n",
      "* covariance model : \n",
      "  - type :  matern3_2 \n",
      "  - nugget : NO\n",
      "  - parameters lower bounds :  1e-10 \n",
      "  - parameters upper bounds :  272.201 \n",
      "  - best initial criterion value(s) :  -152.6244 \n",
      "\n",
      "N = 1, M = 5 machine precision = 2.22045e-16\n",
      "At X0, 0 variables are exactly at the bounds\n",
      "At iterate     0  f=       152.62  |proj g|=   7.3846e-05\n",
      "At iterate     1  f =       152.62  |proj g|=    7.3841e-05\n",
      "\n",
      "iterations 1\n",
      "function evaluations 2\n",
      "segments explored during Cauchy searches 1\n",
      "BFGS updates skipped 0\n",
      "active bounds at final generalized Cauchy point 0\n",
      "norm of the final projected gradient 7.38406e-05\n",
      "final function value 152.624\n",
      "\n",
      "F = 152.624\n",
      "final  value 152.624433 \n",
      "converged\n"
     ]
    },
    {
     "name": "stderr",
     "output_type": "stream",
     "text": [
      "[mbo] 6: x=3.56 : y = -989 : 0.0 secs : infill_ei\n",
      "\n"
     ]
    },
    {
     "name": "stdout",
     "output_type": "stream",
     "text": [
      "\n",
      "optimisation start\n",
      "------------------\n",
      "* estimation method   : MLE \n",
      "* optimisation method : BFGS \n",
      "* analytical gradient : used\n",
      "* trend model : ~1\n",
      "* covariance model : \n",
      "  - type :  matern3_2 \n",
      "  - nugget : NO\n",
      "  - parameters lower bounds :  1e-10 \n",
      "  - parameters upper bounds :  272.201 \n",
      "  - best initial criterion value(s) :  -166.8414 \n",
      "\n",
      "N = 1, M = 5 machine precision = 2.22045e-16\n",
      "At X0, 0 variables are exactly at the bounds\n",
      "At iterate     0  f=       166.84  |proj g|=   0.00015852\n",
      "At iterate     1  f =       166.84  |proj g|=    0.00015851\n",
      "\n",
      "iterations 1\n",
      "function evaluations 2\n",
      "segments explored during Cauchy searches 1\n",
      "BFGS updates skipped 0\n",
      "active bounds at final generalized Cauchy point 0\n",
      "norm of the final projected gradient 0.000158508\n",
      "final function value 166.841\n",
      "\n",
      "F = 166.841\n",
      "final  value 166.841428 \n",
      "converged\n"
     ]
    },
    {
     "name": "stderr",
     "output_type": "stream",
     "text": [
      "[mbo] 7: x=-22.1 : y = -5.49e+05 : 0.0 secs : infill_ei\n",
      "\n"
     ]
    },
    {
     "name": "stdout",
     "output_type": "stream",
     "text": [
      "\n",
      "optimisation start\n",
      "------------------\n",
      "* estimation method   : MLE \n",
      "* optimisation method : BFGS \n",
      "* analytical gradient : used\n",
      "* trend model : ~1\n",
      "* covariance model : \n",
      "  - type :  matern3_2 \n",
      "  - nugget : NO\n",
      "  - parameters lower bounds :  1e-10 \n",
      "  - parameters upper bounds :  272.201 \n",
      "  - best initial criterion value(s) :  -181.155 \n",
      "\n",
      "N = 1, M = 5 machine precision = 2.22045e-16\n",
      "At X0, 0 variables are exactly at the bounds\n",
      "At iterate     0  f=       181.16  |proj g|=   0.00036742\n",
      "At iterate     1  f =       181.16  |proj g|=     0.0003674\n",
      "\n",
      "iterations 1\n",
      "function evaluations 2\n",
      "segments explored during Cauchy searches 1\n",
      "BFGS updates skipped 0\n",
      "active bounds at final generalized Cauchy point 0\n",
      "norm of the final projected gradient 0.000367402\n",
      "final function value 181.155\n",
      "\n",
      "F = 181.155\n",
      "final  value 181.155036 \n",
      "converged\n"
     ]
    },
    {
     "name": "stderr",
     "output_type": "stream",
     "text": [
      "[mbo] 8: x=-6.33 : y = 4.2e+04 : 0.0 secs : infill_ei\n",
      "\n"
     ]
    },
    {
     "name": "stdout",
     "output_type": "stream",
     "text": [
      "\n",
      "optimisation start\n",
      "------------------\n",
      "* estimation method   : MLE \n",
      "* optimisation method : BFGS \n",
      "* analytical gradient : used\n",
      "* trend model : ~1\n",
      "* covariance model : \n",
      "  - type :  matern3_2 \n",
      "  - nugget : NO\n",
      "  - parameters lower bounds :  1e-10 \n",
      "  - parameters upper bounds :  272.201 \n",
      "  - best initial criterion value(s) :  -194.3298 \n",
      "\n",
      "N = 1, M = 5 machine precision = 2.22045e-16\n",
      "At X0, 0 variables are exactly at the bounds\n",
      "At iterate     0  f=       194.33  |proj g|=   2.2011e-05\n",
      "At iterate     1  f =       194.33  |proj g|=     2.201e-05\n",
      "\n",
      "iterations 1\n",
      "function evaluations 2\n",
      "segments explored during Cauchy searches 1\n",
      "BFGS updates skipped 0\n",
      "active bounds at final generalized Cauchy point 0\n",
      "norm of the final projected gradient 2.20101e-05\n",
      "final function value 194.33\n",
      "\n",
      "F = 194.33\n",
      "final  value 194.329794 \n",
      "converged\n"
     ]
    },
    {
     "name": "stderr",
     "output_type": "stream",
     "text": [
      "[mbo] 9: x=-12.7 : y = 5.54e+03 : 0.0 secs : infill_ei\n",
      "\n"
     ]
    },
    {
     "name": "stdout",
     "output_type": "stream",
     "text": [
      "\n",
      "optimisation start\n",
      "------------------\n",
      "* estimation method   : MLE \n",
      "* optimisation method : BFGS \n",
      "* analytical gradient : used\n",
      "* trend model : ~1\n",
      "* covariance model : \n",
      "  - type :  matern3_2 \n",
      "  - nugget : NO\n",
      "  - parameters lower bounds :  1e-10 \n",
      "  - parameters upper bounds :  272.201 \n",
      "  - best initial criterion value(s) :  -207.4991 \n",
      "\n",
      "N = 1, M = 5 machine precision = 2.22045e-16\n",
      "At X0, 0 variables are exactly at the bounds\n",
      "At iterate     0  f=        207.5  |proj g|=    0.0024993\n",
      "At iterate     1  f =        207.5  |proj g|=     0.0024991\n",
      "At iterate     2  f =       207.44  |proj g|=    0.00063345\n",
      "At iterate     3  f =       207.44  |proj g|=     0.0002121\n",
      "At iterate     4  f =       207.44  |proj g|=             0\n",
      "\n",
      "iterations 4\n",
      "function evaluations 5\n",
      "segments explored during Cauchy searches 4\n",
      "BFGS updates skipped 0\n",
      "active bounds at final generalized Cauchy point 1\n",
      "norm of the final projected gradient 0\n",
      "final function value 207.437\n",
      "\n",
      "F = 207.437\n",
      "final  value 207.437021 \n",
      "converged\n"
     ]
    },
    {
     "name": "stderr",
     "output_type": "stream",
     "text": [
      "[mbo] 10: x=17.9 : y = 1.12e+04 : 0.0 secs : infill_ei\n",
      "\n"
     ]
    },
    {
     "name": "stdout",
     "output_type": "stream",
     "text": [
      "\n",
      "optimisation start\n",
      "------------------\n",
      "* estimation method   : MLE \n",
      "* optimisation method : BFGS \n",
      "* analytical gradient : used\n",
      "* trend model : ~1\n",
      "* covariance model : \n",
      "  - type :  matern3_2 \n",
      "  - nugget : NO\n",
      "  - parameters lower bounds :  1e-10 \n",
      "  - parameters upper bounds :  272.201 \n",
      "  - best initial criterion value(s) :  -220.2275 \n",
      "\n",
      "N = 1, M = 5 machine precision = 2.22045e-16\n",
      "At X0, 0 variables are exactly at the bounds\n",
      "At iterate     0  f=       220.23  |proj g|=    0.0042541\n",
      "At iterate     1  f =       220.23  |proj g|=     0.0042538\n",
      "At iterate     2  f =        220.1  |proj g|=     0.0013093\n",
      "At iterate     3  f =       220.09  |proj g|=             0\n",
      "\n",
      "iterations 3\n",
      "function evaluations 4\n",
      "segments explored during Cauchy searches 3\n",
      "BFGS updates skipped 0\n",
      "active bounds at final generalized Cauchy point 1\n",
      "norm of the final projected gradient 0\n",
      "final function value 220.087\n",
      "\n",
      "F = 220.087\n",
      "final  value 220.086687 \n",
      "converged\n"
     ]
    },
    {
     "name": "stderr",
     "output_type": "stream",
     "text": [
      "[mbo] 11: x=0.293 : y = 9.03e+03 : 0.0 secs : infill_ei\n",
      "\n"
     ]
    },
    {
     "name": "stdout",
     "output_type": "stream",
     "text": [
      "\n",
      "optimisation start\n",
      "------------------\n",
      "* estimation method   : MLE \n",
      "* optimisation method : BFGS \n",
      "* analytical gradient : used\n",
      "* trend model : ~1\n",
      "* covariance model : \n",
      "  - type :  matern3_2 \n",
      "  - nugget : NO\n",
      "  - parameters lower bounds :  1e-10 \n",
      "  - parameters upper bounds :  272.201 \n",
      "  - best initial criterion value(s) :  -233.0347 \n",
      "\n",
      "N = 1, M = 5 machine precision = 2.22045e-16\n",
      "At X0, 0 variables are exactly at the bounds\n",
      "At iterate     0  f=       233.03  |proj g|=    0.0021032\n",
      "At iterate     1  f =       233.03  |proj g|=     0.0021031\n",
      "At iterate     2  f =       233.02  |proj g|=             0\n",
      "\n",
      "iterations 2\n",
      "function evaluations 3\n",
      "segments explored during Cauchy searches 2\n",
      "BFGS updates skipped 0\n",
      "active bounds at final generalized Cauchy point 1\n",
      "norm of the final projected gradient 0\n",
      "final function value 233.016\n",
      "\n",
      "F = 233.016\n",
      "final  value 233.015789 \n",
      "converged\n"
     ]
    },
    {
     "name": "stderr",
     "output_type": "stream",
     "text": [
      "[mbo] 12: x=6.95 : y = -95.1 : 0.0 secs : infill_ei\n",
      "\n"
     ]
    },
    {
     "name": "stdout",
     "output_type": "stream",
     "text": [
      "\n",
      "optimisation start\n",
      "------------------\n",
      "* estimation method   : MLE \n",
      "* optimisation method : BFGS \n",
      "* analytical gradient : used\n",
      "* trend model : ~1\n",
      "* covariance model : \n",
      "  - type :  matern3_2 \n",
      "  - nugget : NO\n",
      "  - parameters lower bounds :  1e-10 \n",
      "  - parameters upper bounds :  272.201 \n",
      "  - best initial criterion value(s) :  -245.9529 \n",
      "\n",
      "N = 1, M = 5 machine precision = 2.22045e-16\n",
      "At X0, 0 variables are exactly at the bounds\n",
      "At iterate     0  f=       245.95  |proj g|=    0.0032577\n",
      "At iterate     1  f =       245.95  |proj g|=     0.0032575\n",
      "At iterate     2  f =       245.91  |proj g|=             0\n",
      "\n",
      "iterations 2\n",
      "function evaluations 3\n",
      "segments explored during Cauchy searches 2\n",
      "BFGS updates skipped 0\n",
      "active bounds at final generalized Cauchy point 1\n",
      "norm of the final projected gradient 0\n",
      "final function value 245.908\n",
      "\n",
      "F = 245.908\n",
      "final  value 245.907687 \n",
      "converged\n"
     ]
    },
    {
     "name": "stderr",
     "output_type": "stream",
     "text": [
      "[mbo] 13: x=12.9 : y = 1.85e+04 : 0.0 secs : infill_ei\n",
      "\n"
     ]
    },
    {
     "name": "stdout",
     "output_type": "stream",
     "text": [
      "\n",
      "optimisation start\n",
      "------------------\n",
      "* estimation method   : MLE \n",
      "* optimisation method : BFGS \n",
      "* analytical gradient : used\n",
      "* trend model : ~1\n",
      "* covariance model : \n",
      "  - type :  matern3_2 \n",
      "  - nugget : NO\n",
      "  - parameters lower bounds :  1e-10 \n",
      "  - parameters upper bounds :  272.201 \n",
      "  - best initial criterion value(s) :  -258.5463 \n",
      "\n",
      "N = 1, M = 5 machine precision = 2.22045e-16\n",
      "At X0, 0 variables are exactly at the bounds\n",
      "At iterate     0  f=       258.55  |proj g|=    0.0043623\n",
      "At iterate     1  f =       258.55  |proj g|=     0.0043621\n",
      "At iterate     2  f =       258.47  |proj g|=             0\n",
      "\n",
      "iterations 2\n",
      "function evaluations 3\n",
      "segments explored during Cauchy searches 2\n",
      "BFGS updates skipped 0\n",
      "active bounds at final generalized Cauchy point 1\n",
      "norm of the final projected gradient 0\n",
      "final function value 258.473\n",
      "\n",
      "F = 258.473\n",
      "final  value 258.472956 \n",
      "converged\n"
     ]
    },
    {
     "name": "stderr",
     "output_type": "stream",
     "text": [
      "[mbo] 14: x=-7.94 : y = 4.46e+04 : 0.0 secs : infill_ei\n",
      "\n"
     ]
    },
    {
     "name": "stdout",
     "output_type": "stream",
     "text": [
      "\n",
      "optimisation start\n",
      "------------------\n",
      "* estimation method   : MLE \n",
      "* optimisation method : BFGS \n",
      "* analytical gradient : used\n",
      "* trend model : ~1\n",
      "* covariance model : \n",
      "  - type :  matern3_2 \n",
      "  - nugget : NO\n",
      "  - parameters lower bounds :  1e-10 \n",
      "  - parameters upper bounds :  272.201 \n",
      "  - best initial criterion value(s) :  -270.3689 \n",
      "\n",
      "N = 1, M = 5 machine precision = 2.22045e-16\n",
      "At X0, 0 variables are exactly at the bounds\n",
      "At iterate     0  f=       270.37  |proj g|=    0.0044885\n",
      "At iterate     1  f =       270.37  |proj g|=     0.0044882\n",
      "At iterate     2  f =       270.33  |proj g|=             0\n",
      "\n",
      "iterations 2\n",
      "function evaluations 3\n",
      "segments explored during Cauchy searches 2\n",
      "BFGS updates skipped 0\n",
      "active bounds at final generalized Cauchy point 1\n",
      "norm of the final projected gradient 0\n",
      "final function value 270.334\n",
      "\n",
      "F = 270.334\n",
      "final  value 270.334414 \n",
      "converged\n"
     ]
    },
    {
     "name": "stderr",
     "output_type": "stream",
     "text": [
      "[mbo] 15: x=-4.68 : y = 3.54e+04 : 0.0 secs : infill_ei\n",
      "\n"
     ]
    },
    {
     "name": "stdout",
     "output_type": "stream",
     "text": [
      "\n",
      "optimisation start\n",
      "------------------\n",
      "* estimation method   : MLE \n",
      "* optimisation method : BFGS \n",
      "* analytical gradient : used\n",
      "* trend model : ~1\n",
      "* covariance model : \n",
      "  - type :  matern3_2 \n",
      "  - nugget : NO\n",
      "  - parameters lower bounds :  1e-10 \n",
      "  - parameters upper bounds :  272.201 \n",
      "  - best initial criterion value(s) :  -282.2227 \n",
      "\n",
      "N = 1, M = 5 machine precision = 2.22045e-16\n",
      "At X0, 0 variables are exactly at the bounds\n",
      "At iterate     0  f=       282.22  |proj g|=    0.0054122\n",
      "At iterate     1  f =       282.22  |proj g|=     0.0054119\n",
      "At iterate     2  f =       282.17  |proj g|=             0\n",
      "\n",
      "iterations 2\n",
      "function evaluations 3\n",
      "segments explored during Cauchy searches 2\n",
      "BFGS updates skipped 0\n",
      "active bounds at final generalized Cauchy point 1\n",
      "norm of the final projected gradient 0\n",
      "final function value 282.174\n",
      "\n",
      "F = 282.174\n",
      "final  value 282.174078 \n",
      "converged\n"
     ]
    },
    {
     "name": "stderr",
     "output_type": "stream",
     "text": [
      "[mbo] 16: x=-11 : y = 3.05e+04 : 0.0 secs : infill_ei\n",
      "\n"
     ]
    },
    {
     "name": "stdout",
     "output_type": "stream",
     "text": [
      "\n",
      "optimisation start\n",
      "------------------\n",
      "* estimation method   : MLE \n",
      "* optimisation method : BFGS \n",
      "* analytical gradient : used\n",
      "* trend model : ~1\n",
      "* covariance model : \n",
      "  - type :  matern3_2 \n",
      "  - nugget : NO\n",
      "  - parameters lower bounds :  1e-10 \n",
      "  - parameters upper bounds :  272.201 \n",
      "  - best initial criterion value(s) :  -294.1082 \n",
      "\n",
      "N = 1, M = 5 machine precision = 2.22045e-16\n",
      "At X0, 0 variables are exactly at the bounds\n",
      "At iterate     0  f=       294.11  |proj g|=    0.0084724\n",
      "At iterate     1  f =       294.11  |proj g|=     0.0084715\n",
      "At iterate     2  f =       293.87  |proj g|=             0\n",
      "\n",
      "iterations 2\n",
      "function evaluations 3\n",
      "segments explored during Cauchy searches 2\n",
      "BFGS updates skipped 0\n",
      "active bounds at final generalized Cauchy point 1\n",
      "norm of the final projected gradient 0\n",
      "final function value 293.874\n",
      "\n",
      "F = 293.874\n",
      "final  value 293.873540 \n",
      "converged\n"
     ]
    },
    {
     "name": "stderr",
     "output_type": "stream",
     "text": [
      "[mbo] 17: x=-1.36 : y = 1.73e+04 : 0.0 secs : infill_ei\n",
      "\n"
     ]
    },
    {
     "name": "stdout",
     "output_type": "stream",
     "text": [
      "\n",
      "optimisation start\n",
      "------------------\n",
      "* estimation method   : MLE \n",
      "* optimisation method : BFGS \n",
      "* analytical gradient : used\n",
      "* trend model : ~1\n",
      "* covariance model : \n",
      "  - type :  matern3_2 \n",
      "  - nugget : NO\n",
      "  - parameters lower bounds :  1e-10 \n",
      "  - parameters upper bounds :  272.201 \n",
      "  - best initial criterion value(s) :  -305.6235 \n",
      "\n",
      "N = 1, M = 5 machine precision = 2.22045e-16\n",
      "At X0, 0 variables are exactly at the bounds\n",
      "At iterate     0  f=       305.62  |proj g|=    0.0068956\n",
      "At iterate     1  f =       305.62  |proj g|=      0.006895\n",
      "At iterate     2  f =       305.58  |proj g|=             0\n",
      "\n",
      "iterations 2\n",
      "function evaluations 3\n",
      "segments explored during Cauchy searches 2\n",
      "BFGS updates skipped 0\n",
      "active bounds at final generalized Cauchy point 1\n",
      "norm of the final projected gradient 0\n",
      "final function value 305.575\n",
      "\n",
      "F = 305.575\n",
      "final  value 305.575001 \n",
      "converged\n"
     ]
    },
    {
     "name": "stderr",
     "output_type": "stream",
     "text": [
      "[mbo] 18: x=-7.17 : y = 4.4e+04 : 0.0 secs : infill_ei\n",
      "\n"
     ]
    },
    {
     "name": "stdout",
     "output_type": "stream",
     "text": [
      "\n",
      "optimisation start\n",
      "------------------\n",
      "* estimation method   : MLE \n",
      "* optimisation method : BFGS \n",
      "* analytical gradient : used\n",
      "* trend model : ~1\n",
      "* covariance model : \n",
      "  - type :  matern3_2 \n",
      "  - nugget : NO\n",
      "  - parameters lower bounds :  1e-10 \n",
      "  - parameters upper bounds :  272.201 \n",
      "  - best initial criterion value(s) :  -316.3234 \n",
      "\n",
      "N = 1, M = 5 machine precision = 2.22045e-16\n",
      "At X0, 0 variables are exactly at the bounds\n",
      "At iterate     0  f=       316.32  |proj g|=    0.0075268\n",
      "At iterate     1  f =       316.32  |proj g|=     0.0075262\n",
      "At iterate     2  f =       316.29  |proj g|=             0\n",
      "\n",
      "iterations 2\n",
      "function evaluations 3\n",
      "segments explored during Cauchy searches 2\n",
      "BFGS updates skipped 0\n",
      "active bounds at final generalized Cauchy point 1\n",
      "norm of the final projected gradient 0\n",
      "final function value 316.286\n",
      "\n",
      "F = 316.286\n",
      "final  value 316.285601 \n",
      "converged\n"
     ]
    },
    {
     "name": "stderr",
     "output_type": "stream",
     "text": [
      "[mbo] 19: x=14.3 : y = 2.12e+04 : 0.0 secs : infill_ei\n",
      "\n"
     ]
    },
    {
     "name": "stdout",
     "output_type": "stream",
     "text": [
      "\n",
      "optimisation start\n",
      "------------------\n",
      "* estimation method   : MLE \n",
      "* optimisation method : BFGS \n",
      "* analytical gradient : used\n",
      "* trend model : ~1\n",
      "* covariance model : \n",
      "  - type :  matern3_2 \n",
      "  - nugget : NO\n",
      "  - parameters lower bounds :  1e-10 \n",
      "  - parameters upper bounds :  272.201 \n",
      "  - best initial criterion value(s) :  -327.9225 \n",
      "\n",
      "N = 1, M = 5 machine precision = 2.22045e-16\n",
      "At X0, 0 variables are exactly at the bounds\n",
      "At iterate     0  f=       327.92  |proj g|=    0.0099896\n",
      "At iterate     1  f =       327.92  |proj g|=     0.0099885\n",
      "At iterate     2  f =       327.73  |proj g|=             0\n",
      "\n",
      "iterations 2\n",
      "function evaluations 3\n",
      "segments explored during Cauchy searches 2\n",
      "BFGS updates skipped 0\n",
      "active bounds at final generalized Cauchy point 1\n",
      "norm of the final projected gradient 0\n",
      "final function value 327.731\n",
      "\n",
      "F = 327.731\n",
      "final  value 327.731095 \n",
      "converged\n"
     ]
    },
    {
     "name": "stderr",
     "output_type": "stream",
     "text": [
      "[mbo] 20: x=-8.73 : y = 4.37e+04 : 0.0 secs : infill_ei\n",
      "\n"
     ]
    },
    {
     "name": "stdout",
     "output_type": "stream",
     "text": [
      "\n",
      "optimisation start\n",
      "------------------\n",
      "* estimation method   : MLE \n",
      "* optimisation method : BFGS \n",
      "* analytical gradient : used\n",
      "* trend model : ~1\n",
      "* covariance model : \n",
      "  - type :  matern3_2 \n",
      "  - nugget : NO\n",
      "  - parameters lower bounds :  1e-10 \n",
      "  - parameters upper bounds :  272.201 \n",
      "  - best initial criterion value(s) :  -338.4773 \n",
      "\n",
      "N = 1, M = 5 machine precision = 2.22045e-16\n",
      "At X0, 0 variables are exactly at the bounds\n",
      "At iterate     0  f=       338.48  |proj g|=     0.010198\n",
      "At iterate     1  f =       338.48  |proj g|=      0.010197\n",
      "At iterate     2  f =       338.33  |proj g|=             0\n",
      "\n",
      "iterations 2\n",
      "function evaluations 3\n",
      "segments explored during Cauchy searches 2\n",
      "BFGS updates skipped 0\n",
      "active bounds at final generalized Cauchy point 1\n",
      "norm of the final projected gradient 0\n",
      "final function value 338.333\n",
      "\n",
      "F = 338.333\n",
      "final  value 338.332584 \n",
      "converged\n"
     ]
    },
    {
     "name": "stderr",
     "output_type": "stream",
     "text": [
      "[mbo] 21: x=5.26 : y = -1.97e+03 : 0.0 secs : infill_ei\n",
      "\n"
     ]
    },
    {
     "name": "stdout",
     "output_type": "stream",
     "text": [
      "\n",
      "optimisation start\n",
      "------------------\n",
      "* estimation method   : MLE \n",
      "* optimisation method : BFGS \n",
      "* analytical gradient : used\n",
      "* trend model : ~1\n",
      "* covariance model : \n",
      "  - type :  matern3_2 \n",
      "  - nugget : NO\n",
      "  - parameters lower bounds :  1e-10 \n",
      "  - parameters upper bounds :  272.201 \n",
      "  - best initial criterion value(s) :  -350.1446 \n",
      "\n",
      "N = 1, M = 5 machine precision = 2.22045e-16\n",
      "At X0, 0 variables are exactly at the bounds\n",
      "At iterate     0  f=       350.14  |proj g|=      0.01017\n",
      "At iterate     1  f =       350.14  |proj g|=      0.010169\n",
      "At iterate     2  f =       350.07  |proj g|=             0\n",
      "\n",
      "iterations 2\n",
      "function evaluations 3\n",
      "segments explored during Cauchy searches 2\n",
      "BFGS updates skipped 0\n",
      "active bounds at final generalized Cauchy point 1\n",
      "norm of the final projected gradient 0\n",
      "final function value 350.073\n",
      "\n",
      "F = 350.073\n",
      "final  value 350.072753 \n",
      "converged\n"
     ]
    },
    {
     "name": "stderr",
     "output_type": "stream",
     "text": [
      "[mbo] 22: x=-5.55 : y = 3.93e+04 : 0.0 secs : infill_ei\n",
      "\n"
     ]
    },
    {
     "name": "stdout",
     "output_type": "stream",
     "text": [
      "\n",
      "optimisation start\n",
      "------------------\n",
      "* estimation method   : MLE \n",
      "* optimisation method : BFGS \n",
      "* analytical gradient : used\n",
      "* trend model : ~1\n",
      "* covariance model : \n",
      "  - type :  matern3_2 \n",
      "  - nugget : NO\n",
      "  - parameters lower bounds :  1e-10 \n",
      "  - parameters upper bounds :  272.201 \n",
      "  - best initial criterion value(s) :  -360.7949 \n",
      "\n",
      "N = 1, M = 5 machine precision = 2.22045e-16\n",
      "At X0, 0 variables are exactly at the bounds\n",
      "At iterate     0  f=       360.79  |proj g|=     0.011559\n",
      "At iterate     1  f =       360.79  |proj g|=      0.011557\n",
      "At iterate     2  f =       360.66  |proj g|=             0\n",
      "\n",
      "iterations 2\n",
      "function evaluations 3\n",
      "segments explored during Cauchy searches 2\n",
      "BFGS updates skipped 0\n",
      "active bounds at final generalized Cauchy point 1\n",
      "norm of the final projected gradient 0\n",
      "final function value 360.662\n",
      "\n",
      "F = 360.662\n",
      "final  value 360.661669 \n",
      "converged\n"
     ]
    },
    {
     "name": "stderr",
     "output_type": "stream",
     "text": [
      "[mbo] 23: x=11.5 : y = 1.41e+04 : 0.0 secs : infill_ei\n",
      "\n"
     ]
    },
    {
     "name": "stdout",
     "output_type": "stream",
     "text": [
      "\n",
      "optimisation start\n",
      "------------------\n",
      "* estimation method   : MLE \n",
      "* optimisation method : BFGS \n",
      "* analytical gradient : used\n",
      "* trend model : ~1\n",
      "* covariance model : \n",
      "  - type :  matern3_2 \n",
      "  - nugget : NO\n",
      "  - parameters lower bounds :  1e-10 \n",
      "  - parameters upper bounds :  272.201 \n",
      "  - best initial criterion value(s) :  -372.1441 \n",
      "\n",
      "N = 1, M = 5 machine precision = 2.22045e-16\n",
      "At X0, 0 variables are exactly at the bounds\n",
      "At iterate     0  f=       372.14  |proj g|=     0.011959\n",
      "At iterate     1  f =       372.14  |proj g|=      0.011957\n",
      "At iterate     2  f =       372.05  |proj g|=             0\n",
      "\n",
      "iterations 2\n",
      "function evaluations 3\n",
      "segments explored during Cauchy searches 2\n",
      "BFGS updates skipped 0\n",
      "active bounds at final generalized Cauchy point 1\n",
      "norm of the final projected gradient 0\n",
      "final function value 372.046\n",
      "\n",
      "F = 372.046\n",
      "final  value 372.045538 \n",
      "converged\n"
     ]
    },
    {
     "name": "stderr",
     "output_type": "stream",
     "text": [
      "[mbo] 24: x=1.87 : y = 2.95e+03 : 0.0 secs : infill_ei\n",
      "\n"
     ]
    },
    {
     "name": "stdout",
     "output_type": "stream",
     "text": [
      "\n",
      "optimisation start\n",
      "------------------\n",
      "* estimation method   : MLE \n",
      "* optimisation method : BFGS \n",
      "* analytical gradient : used\n",
      "* trend model : ~1\n",
      "* covariance model : \n",
      "  - type :  matern3_2 \n",
      "  - nugget : NO\n",
      "  - parameters lower bounds :  1e-10 \n",
      "  - parameters upper bounds :  272.201 \n",
      "  - best initial criterion value(s) :  -383.9609 \n",
      "\n",
      "N = 1, M = 5 machine precision = 2.22045e-16\n",
      "At X0, 0 variables are exactly at the bounds\n",
      "At iterate     0  f=       383.96  |proj g|=     0.015608\n",
      "At iterate     1  f =       383.96  |proj g|=      0.015605\n",
      "At iterate     2  f =       383.58  |proj g|=             0\n",
      "\n",
      "iterations 2\n",
      "function evaluations 3\n",
      "segments explored during Cauchy searches 2\n",
      "BFGS updates skipped 0\n",
      "active bounds at final generalized Cauchy point 1\n",
      "norm of the final projected gradient 0\n",
      "final function value 383.577\n",
      "\n",
      "F = 383.577\n",
      "final  value 383.577448 \n",
      "converged\n"
     ]
    },
    {
     "name": "stderr",
     "output_type": "stream",
     "text": [
      "[mbo] 25: x=8.56 : y = 3.91e+03 : 0.0 secs : infill_ei\n",
      "\n"
     ]
    },
    {
     "name": "stdout",
     "output_type": "stream",
     "text": [
      "\n",
      "optimisation start\n",
      "------------------\n",
      "* estimation method   : MLE \n",
      "* optimisation method : BFGS \n",
      "* analytical gradient : used\n",
      "* trend model : ~1\n",
      "* covariance model : \n",
      "  - type :  matern3_2 \n",
      "  - nugget : NO\n",
      "  - parameters lower bounds :  1e-10 \n",
      "  - parameters upper bounds :  272.201 \n",
      "  - best initial criterion value(s) :  -395.1197 \n",
      "\n",
      "N = 1, M = 5 machine precision = 2.22045e-16\n",
      "At X0, 0 variables are exactly at the bounds\n",
      "At iterate     0  f=       395.12  |proj g|=     0.013413\n",
      "At iterate     1  f =       395.12  |proj g|=      0.013411\n",
      "At iterate     2  f =       395.03  |proj g|=             0\n",
      "\n",
      "iterations 2\n",
      "function evaluations 3\n",
      "segments explored during Cauchy searches 2\n",
      "BFGS updates skipped 0\n",
      "active bounds at final generalized Cauchy point 1\n",
      "norm of the final projected gradient 0\n",
      "final function value 395.028\n",
      "\n",
      "F = 395.028\n",
      "final  value 395.027862 \n",
      "converged\n"
     ]
    }
   ],
   "source": [
    "run  <- mbo( fun=      obj.fun, \n",
    "             learner= fproxy, \n",
    "             control= ctrl )"
   ]
  },
  {
   "cell_type": "code",
   "execution_count": 12,
   "metadata": {
    "tags": [],
    "vscode": {
     "languageId": "r"
    }
   },
   "outputs": [],
   "source": [
    "tb_resultados  <- as.data.table( run$opt.path )"
   ]
  },
  {
   "cell_type": "code",
   "execution_count": 13,
   "metadata": {
    "tags": [],
    "vscode": {
     "languageId": "r"
    }
   },
   "outputs": [
    {
     "data": {
      "text/html": [
       "<table class=\"dataframe\">\n",
       "<caption>A data.table: 29 × 13</caption>\n",
       "<thead>\n",
       "\t<tr><th scope=col>x</th><th scope=col>y</th><th scope=col>dob</th><th scope=col>eol</th><th scope=col>error.message</th><th scope=col>exec.time</th><th scope=col>ei</th><th scope=col>error.model</th><th scope=col>train.time</th><th scope=col>prop.type</th><th scope=col>propose.time</th><th scope=col>se</th><th scope=col>mean</th></tr>\n",
       "\t<tr><th scope=col>&lt;dbl&gt;</th><th scope=col>&lt;dbl&gt;</th><th scope=col>&lt;int&gt;</th><th scope=col>&lt;int&gt;</th><th scope=col>&lt;chr&gt;</th><th scope=col>&lt;dbl&gt;</th><th scope=col>&lt;dbl&gt;</th><th scope=col>&lt;chr&gt;</th><th scope=col>&lt;dbl&gt;</th><th scope=col>&lt;chr&gt;</th><th scope=col>&lt;dbl&gt;</th><th scope=col>&lt;dbl&gt;</th><th scope=col>&lt;dbl&gt;</th></tr>\n",
       "</thead>\n",
       "<tbody>\n",
       "\t<tr><td> 19.8608962</td><td>-1.226908e+04</td><td> 0</td><td>NA</td><td>NA</td><td>0.01</td><td>          NA</td><td>NA</td><td>  NA</td><td>initdesign</td><td>  NA</td><td>         NA</td><td>          NA</td></tr>\n",
       "\t<tr><td>-31.1071961</td><td>-2.358492e+06</td><td> 0</td><td>NA</td><td>NA</td><td>0.00</td><td>          NA</td><td>NA</td><td>  NA</td><td>initdesign</td><td>  NA</td><td>         NA</td><td>          NA</td></tr>\n",
       "\t<tr><td> 83.7589685</td><td>-7.768569e+07</td><td> 0</td><td>NA</td><td>NA</td><td>0.00</td><td>          NA</td><td>NA</td><td>  NA</td><td>initdesign</td><td>  NA</td><td>         NA</td><td>          NA</td></tr>\n",
       "\t<tr><td>-52.3415338</td><td>-1.843460e+07</td><td> 0</td><td>NA</td><td>NA</td><td>0.00</td><td>          NA</td><td>NA</td><td>  NA</td><td>initdesign</td><td>  NA</td><td>         NA</td><td>          NA</td></tr>\n",
       "\t<tr><td> -2.8964424</td><td> 2.581945e+04</td><td> 1</td><td>NA</td><td>NA</td><td>0.00</td><td>-8820117.384</td><td>NA</td><td>0.09</td><td>infill_ei </td><td>0.24</td><td>14512175.14</td><td>5285758.1180</td></tr>\n",
       "\t<tr><td> 10.0956662</td><td> 9.034606e+03</td><td> 2</td><td>NA</td><td>NA</td><td>0.00</td><td>-2462665.828</td><td>NA</td><td>0.05</td><td>infill_ei </td><td>0.25</td><td> 3913720.72</td><td>1584139.6388</td></tr>\n",
       "\t<tr><td>-16.7565349</td><td>-1.260860e+05</td><td> 3</td><td>NA</td><td>NA</td><td>0.00</td><td>-1742145.960</td><td>NA</td><td>0.03</td><td>infill_ei </td><td>0.47</td><td> 3398149.20</td><td> 739245.3361</td></tr>\n",
       "\t<tr><td> 15.6158418</td><td> 2.105238e+04</td><td> 4</td><td>NA</td><td>NA</td><td>0.00</td><td> -460060.230</td><td>NA</td><td>0.03</td><td>infill_ei </td><td>0.29</td><td>  693085.12</td><td> 337830.1144</td></tr>\n",
       "\t<tr><td> -9.5721213</td><td> 4.081169e+04</td><td> 5</td><td>NA</td><td>NA</td><td>0.00</td><td> -324731.726</td><td>NA</td><td>0.05</td><td>infill_ei </td><td>0.28</td><td>  872707.60</td><td> -22085.8334</td></tr>\n",
       "\t<tr><td>  3.5623744</td><td>-9.885923e+02</td><td> 6</td><td>NA</td><td>NA</td><td>0.00</td><td> -239035.678</td><td>NA</td><td>0.02</td><td>infill_ei </td><td>0.25</td><td>  626832.70</td><td>  18423.9582</td></tr>\n",
       "\t<tr><td>-22.1230492</td><td>-5.489901e+05</td><td> 7</td><td>NA</td><td>NA</td><td>0.00</td><td> -106641.695</td><td>NA</td><td>0.03</td><td>infill_ei </td><td>0.25</td><td>  660228.67</td><td>-372819.1853</td></tr>\n",
       "\t<tr><td> -6.3263177</td><td> 4.201341e+04</td><td> 8</td><td>NA</td><td>NA</td><td>0.00</td><td>  -88356.618</td><td>NA</td><td>0.04</td><td>infill_ei </td><td>0.26</td><td>  220708.56</td><td>  41424.2984</td></tr>\n",
       "\t<tr><td>-12.7181050</td><td> 5.542300e+03</td><td> 9</td><td>NA</td><td>NA</td><td>0.00</td><td>  -66003.989</td><td>NA</td><td>0.02</td><td>infill_ei </td><td>0.28</td><td>  202660.34</td><td>  10352.5709</td></tr>\n",
       "\t<tr><td> 17.8833634</td><td> 1.117199e+04</td><td>10</td><td>NA</td><td>NA</td><td>0.00</td><td>  -56334.857</td><td>NA</td><td>0.02</td><td>infill_ei </td><td>0.28</td><td>  113528.06</td><td>  62613.6635</td></tr>\n",
       "\t<tr><td>  0.2927395</td><td> 9.030877e+03</td><td>11</td><td>NA</td><td>NA</td><td>0.00</td><td>  -51791.151</td><td>NA</td><td>0.01</td><td>infill_ei </td><td>0.32</td><td>  167310.08</td><td>   9604.9871</td></tr>\n",
       "\t<tr><td>  6.9499348</td><td>-9.507948e+01</td><td>12</td><td>NA</td><td>NA</td><td>0.00</td><td>  -45084.749</td><td>NA</td><td>0.05</td><td>infill_ei </td><td>0.36</td><td>  161015.73</td><td>   -805.0745</td></tr>\n",
       "\t<tr><td> 12.9171856</td><td> 1.850231e+04</td><td>13</td><td>NA</td><td>NA</td><td>0.00</td><td>  -36855.750</td><td>NA</td><td>0.01</td><td>infill_ei </td><td>0.29</td><td>  115985.00</td><td>  21777.3202</td></tr>\n",
       "\t<tr><td> -7.9440158</td><td> 4.455968e+04</td><td>14</td><td>NA</td><td>NA</td><td>0.00</td><td>  -24240.646</td><td>NA</td><td>0.03</td><td>infill_ei </td><td>0.28</td><td>   57350.80</td><td>  44685.7153</td></tr>\n",
       "\t<tr><td> -4.6836592</td><td> 3.536373e+04</td><td>15</td><td>NA</td><td>NA</td><td>0.00</td><td>  -18085.417</td><td>NA</td><td>0.04</td><td>infill_ei </td><td>0.29</td><td>   56070.45</td><td>  35396.7187</td></tr>\n",
       "\t<tr><td>-10.9772848</td><td> 3.047221e+04</td><td>16</td><td>NA</td><td>NA</td><td>0.00</td><td>  -13069.023</td><td>NA</td><td>0.05</td><td>infill_ei </td><td>0.28</td><td>   48699.97</td><td>  30152.7753</td></tr>\n",
       "\t<tr><td> -1.3606430</td><td> 1.727988e+04</td><td>17</td><td>NA</td><td>NA</td><td>0.00</td><td>   -8786.856</td><td>NA</td><td>0.03</td><td>infill_ei </td><td>0.30</td><td>   48767.49</td><td>  17295.1100</td></tr>\n",
       "\t<tr><td> -7.1664132</td><td> 4.396808e+04</td><td>18</td><td>NA</td><td>NA</td><td>0.00</td><td>   -6928.556</td><td>NA</td><td>0.09</td><td>infill_ei </td><td>0.41</td><td>   18094.83</td><td>  43971.5808</td></tr>\n",
       "\t<tr><td> 14.2829801</td><td> 2.115059e+04</td><td>19</td><td>NA</td><td>NA</td><td>0.00</td><td>   -6481.472</td><td>NA</td><td>0.03</td><td>infill_ei </td><td>0.32</td><td>   37691.20</td><td>  22393.8176</td></tr>\n",
       "\t<tr><td> -8.7337775</td><td> 4.368712e+04</td><td>20</td><td>NA</td><td>NA</td><td>0.00</td><td>   -6035.596</td><td>NA</td><td>0.05</td><td>infill_ei </td><td>0.29</td><td>   16208.09</td><td>  43679.6252</td></tr>\n",
       "\t<tr><td>  5.2610924</td><td>-1.972894e+03</td><td>21</td><td>NA</td><td>NA</td><td>0.00</td><td>   -4903.518</td><td>NA</td><td>0.03</td><td>infill_ei </td><td>0.31</td><td>   50589.81</td><td>  -1947.8344</td></tr>\n",
       "\t<tr><td> -5.5520713</td><td> 3.925910e+04</td><td>22</td><td>NA</td><td>NA</td><td>0.00</td><td>   -4077.283</td><td>NA</td><td>0.05</td><td>infill_ei </td><td>0.31</td><td>   15992.04</td><td>  39260.1754</td></tr>\n",
       "\t<tr><td> 11.5167159</td><td> 1.411495e+04</td><td>23</td><td>NA</td><td>NA</td><td>0.00</td><td>   -3841.402</td><td>NA</td><td>0.04</td><td>infill_ei </td><td>0.31</td><td>   35398.38</td><td>  14209.5666</td></tr>\n",
       "\t<tr><td>  1.8699723</td><td> 2.953296e+03</td><td>24</td><td>NA</td><td>NA</td><td>0.00</td><td>   -3332.135</td><td>NA</td><td>0.05</td><td>infill_ei </td><td>0.36</td><td>   41032.45</td><td>   2976.3855</td></tr>\n",
       "\t<tr><td>  8.5617756</td><td> 3.909968e+03</td><td>25</td><td>NA</td><td>NA</td><td>0.00</td><td>   -2728.341</td><td>NA</td><td>0.03</td><td>infill_ei </td><td>0.33</td><td>   37808.89</td><td>   3936.9378</td></tr>\n",
       "</tbody>\n",
       "</table>\n"
      ],
      "text/latex": [
       "A data.table: 29 × 13\n",
       "\\begin{tabular}{lllllllllllll}\n",
       " x & y & dob & eol & error.message & exec.time & ei & error.model & train.time & prop.type & propose.time & se & mean\\\\\n",
       " <dbl> & <dbl> & <int> & <int> & <chr> & <dbl> & <dbl> & <chr> & <dbl> & <chr> & <dbl> & <dbl> & <dbl>\\\\\n",
       "\\hline\n",
       "\t  19.8608962 & -1.226908e+04 &  0 & NA & NA & 0.01 &           NA & NA &   NA & initdesign &   NA &          NA &           NA\\\\\n",
       "\t -31.1071961 & -2.358492e+06 &  0 & NA & NA & 0.00 &           NA & NA &   NA & initdesign &   NA &          NA &           NA\\\\\n",
       "\t  83.7589685 & -7.768569e+07 &  0 & NA & NA & 0.00 &           NA & NA &   NA & initdesign &   NA &          NA &           NA\\\\\n",
       "\t -52.3415338 & -1.843460e+07 &  0 & NA & NA & 0.00 &           NA & NA &   NA & initdesign &   NA &          NA &           NA\\\\\n",
       "\t  -2.8964424 &  2.581945e+04 &  1 & NA & NA & 0.00 & -8820117.384 & NA & 0.09 & infill\\_ei  & 0.24 & 14512175.14 & 5285758.1180\\\\\n",
       "\t  10.0956662 &  9.034606e+03 &  2 & NA & NA & 0.00 & -2462665.828 & NA & 0.05 & infill\\_ei  & 0.25 &  3913720.72 & 1584139.6388\\\\\n",
       "\t -16.7565349 & -1.260860e+05 &  3 & NA & NA & 0.00 & -1742145.960 & NA & 0.03 & infill\\_ei  & 0.47 &  3398149.20 &  739245.3361\\\\\n",
       "\t  15.6158418 &  2.105238e+04 &  4 & NA & NA & 0.00 &  -460060.230 & NA & 0.03 & infill\\_ei  & 0.29 &   693085.12 &  337830.1144\\\\\n",
       "\t  -9.5721213 &  4.081169e+04 &  5 & NA & NA & 0.00 &  -324731.726 & NA & 0.05 & infill\\_ei  & 0.28 &   872707.60 &  -22085.8334\\\\\n",
       "\t   3.5623744 & -9.885923e+02 &  6 & NA & NA & 0.00 &  -239035.678 & NA & 0.02 & infill\\_ei  & 0.25 &   626832.70 &   18423.9582\\\\\n",
       "\t -22.1230492 & -5.489901e+05 &  7 & NA & NA & 0.00 &  -106641.695 & NA & 0.03 & infill\\_ei  & 0.25 &   660228.67 & -372819.1853\\\\\n",
       "\t  -6.3263177 &  4.201341e+04 &  8 & NA & NA & 0.00 &   -88356.618 & NA & 0.04 & infill\\_ei  & 0.26 &   220708.56 &   41424.2984\\\\\n",
       "\t -12.7181050 &  5.542300e+03 &  9 & NA & NA & 0.00 &   -66003.989 & NA & 0.02 & infill\\_ei  & 0.28 &   202660.34 &   10352.5709\\\\\n",
       "\t  17.8833634 &  1.117199e+04 & 10 & NA & NA & 0.00 &   -56334.857 & NA & 0.02 & infill\\_ei  & 0.28 &   113528.06 &   62613.6635\\\\\n",
       "\t   0.2927395 &  9.030877e+03 & 11 & NA & NA & 0.00 &   -51791.151 & NA & 0.01 & infill\\_ei  & 0.32 &   167310.08 &    9604.9871\\\\\n",
       "\t   6.9499348 & -9.507948e+01 & 12 & NA & NA & 0.00 &   -45084.749 & NA & 0.05 & infill\\_ei  & 0.36 &   161015.73 &    -805.0745\\\\\n",
       "\t  12.9171856 &  1.850231e+04 & 13 & NA & NA & 0.00 &   -36855.750 & NA & 0.01 & infill\\_ei  & 0.29 &   115985.00 &   21777.3202\\\\\n",
       "\t  -7.9440158 &  4.455968e+04 & 14 & NA & NA & 0.00 &   -24240.646 & NA & 0.03 & infill\\_ei  & 0.28 &    57350.80 &   44685.7153\\\\\n",
       "\t  -4.6836592 &  3.536373e+04 & 15 & NA & NA & 0.00 &   -18085.417 & NA & 0.04 & infill\\_ei  & 0.29 &    56070.45 &   35396.7187\\\\\n",
       "\t -10.9772848 &  3.047221e+04 & 16 & NA & NA & 0.00 &   -13069.023 & NA & 0.05 & infill\\_ei  & 0.28 &    48699.97 &   30152.7753\\\\\n",
       "\t  -1.3606430 &  1.727988e+04 & 17 & NA & NA & 0.00 &    -8786.856 & NA & 0.03 & infill\\_ei  & 0.30 &    48767.49 &   17295.1100\\\\\n",
       "\t  -7.1664132 &  4.396808e+04 & 18 & NA & NA & 0.00 &    -6928.556 & NA & 0.09 & infill\\_ei  & 0.41 &    18094.83 &   43971.5808\\\\\n",
       "\t  14.2829801 &  2.115059e+04 & 19 & NA & NA & 0.00 &    -6481.472 & NA & 0.03 & infill\\_ei  & 0.32 &    37691.20 &   22393.8176\\\\\n",
       "\t  -8.7337775 &  4.368712e+04 & 20 & NA & NA & 0.00 &    -6035.596 & NA & 0.05 & infill\\_ei  & 0.29 &    16208.09 &   43679.6252\\\\\n",
       "\t   5.2610924 & -1.972894e+03 & 21 & NA & NA & 0.00 &    -4903.518 & NA & 0.03 & infill\\_ei  & 0.31 &    50589.81 &   -1947.8344\\\\\n",
       "\t  -5.5520713 &  3.925910e+04 & 22 & NA & NA & 0.00 &    -4077.283 & NA & 0.05 & infill\\_ei  & 0.31 &    15992.04 &   39260.1754\\\\\n",
       "\t  11.5167159 &  1.411495e+04 & 23 & NA & NA & 0.00 &    -3841.402 & NA & 0.04 & infill\\_ei  & 0.31 &    35398.38 &   14209.5666\\\\\n",
       "\t   1.8699723 &  2.953296e+03 & 24 & NA & NA & 0.00 &    -3332.135 & NA & 0.05 & infill\\_ei  & 0.36 &    41032.45 &    2976.3855\\\\\n",
       "\t   8.5617756 &  3.909968e+03 & 25 & NA & NA & 0.00 &    -2728.341 & NA & 0.03 & infill\\_ei  & 0.33 &    37808.89 &    3936.9378\\\\\n",
       "\\end{tabular}\n"
      ],
      "text/markdown": [
       "\n",
       "A data.table: 29 × 13\n",
       "\n",
       "| x &lt;dbl&gt; | y &lt;dbl&gt; | dob &lt;int&gt; | eol &lt;int&gt; | error.message &lt;chr&gt; | exec.time &lt;dbl&gt; | ei &lt;dbl&gt; | error.model &lt;chr&gt; | train.time &lt;dbl&gt; | prop.type &lt;chr&gt; | propose.time &lt;dbl&gt; | se &lt;dbl&gt; | mean &lt;dbl&gt; |\n",
       "|---|---|---|---|---|---|---|---|---|---|---|---|---|\n",
       "|  19.8608962 | -1.226908e+04 |  0 | NA | NA | 0.01 |           NA | NA |   NA | initdesign |   NA |          NA |           NA |\n",
       "| -31.1071961 | -2.358492e+06 |  0 | NA | NA | 0.00 |           NA | NA |   NA | initdesign |   NA |          NA |           NA |\n",
       "|  83.7589685 | -7.768569e+07 |  0 | NA | NA | 0.00 |           NA | NA |   NA | initdesign |   NA |          NA |           NA |\n",
       "| -52.3415338 | -1.843460e+07 |  0 | NA | NA | 0.00 |           NA | NA |   NA | initdesign |   NA |          NA |           NA |\n",
       "|  -2.8964424 |  2.581945e+04 |  1 | NA | NA | 0.00 | -8820117.384 | NA | 0.09 | infill_ei  | 0.24 | 14512175.14 | 5285758.1180 |\n",
       "|  10.0956662 |  9.034606e+03 |  2 | NA | NA | 0.00 | -2462665.828 | NA | 0.05 | infill_ei  | 0.25 |  3913720.72 | 1584139.6388 |\n",
       "| -16.7565349 | -1.260860e+05 |  3 | NA | NA | 0.00 | -1742145.960 | NA | 0.03 | infill_ei  | 0.47 |  3398149.20 |  739245.3361 |\n",
       "|  15.6158418 |  2.105238e+04 |  4 | NA | NA | 0.00 |  -460060.230 | NA | 0.03 | infill_ei  | 0.29 |   693085.12 |  337830.1144 |\n",
       "|  -9.5721213 |  4.081169e+04 |  5 | NA | NA | 0.00 |  -324731.726 | NA | 0.05 | infill_ei  | 0.28 |   872707.60 |  -22085.8334 |\n",
       "|   3.5623744 | -9.885923e+02 |  6 | NA | NA | 0.00 |  -239035.678 | NA | 0.02 | infill_ei  | 0.25 |   626832.70 |   18423.9582 |\n",
       "| -22.1230492 | -5.489901e+05 |  7 | NA | NA | 0.00 |  -106641.695 | NA | 0.03 | infill_ei  | 0.25 |   660228.67 | -372819.1853 |\n",
       "|  -6.3263177 |  4.201341e+04 |  8 | NA | NA | 0.00 |   -88356.618 | NA | 0.04 | infill_ei  | 0.26 |   220708.56 |   41424.2984 |\n",
       "| -12.7181050 |  5.542300e+03 |  9 | NA | NA | 0.00 |   -66003.989 | NA | 0.02 | infill_ei  | 0.28 |   202660.34 |   10352.5709 |\n",
       "|  17.8833634 |  1.117199e+04 | 10 | NA | NA | 0.00 |   -56334.857 | NA | 0.02 | infill_ei  | 0.28 |   113528.06 |   62613.6635 |\n",
       "|   0.2927395 |  9.030877e+03 | 11 | NA | NA | 0.00 |   -51791.151 | NA | 0.01 | infill_ei  | 0.32 |   167310.08 |    9604.9871 |\n",
       "|   6.9499348 | -9.507948e+01 | 12 | NA | NA | 0.00 |   -45084.749 | NA | 0.05 | infill_ei  | 0.36 |   161015.73 |    -805.0745 |\n",
       "|  12.9171856 |  1.850231e+04 | 13 | NA | NA | 0.00 |   -36855.750 | NA | 0.01 | infill_ei  | 0.29 |   115985.00 |   21777.3202 |\n",
       "|  -7.9440158 |  4.455968e+04 | 14 | NA | NA | 0.00 |   -24240.646 | NA | 0.03 | infill_ei  | 0.28 |    57350.80 |   44685.7153 |\n",
       "|  -4.6836592 |  3.536373e+04 | 15 | NA | NA | 0.00 |   -18085.417 | NA | 0.04 | infill_ei  | 0.29 |    56070.45 |   35396.7187 |\n",
       "| -10.9772848 |  3.047221e+04 | 16 | NA | NA | 0.00 |   -13069.023 | NA | 0.05 | infill_ei  | 0.28 |    48699.97 |   30152.7753 |\n",
       "|  -1.3606430 |  1.727988e+04 | 17 | NA | NA | 0.00 |    -8786.856 | NA | 0.03 | infill_ei  | 0.30 |    48767.49 |   17295.1100 |\n",
       "|  -7.1664132 |  4.396808e+04 | 18 | NA | NA | 0.00 |    -6928.556 | NA | 0.09 | infill_ei  | 0.41 |    18094.83 |   43971.5808 |\n",
       "|  14.2829801 |  2.115059e+04 | 19 | NA | NA | 0.00 |    -6481.472 | NA | 0.03 | infill_ei  | 0.32 |    37691.20 |   22393.8176 |\n",
       "|  -8.7337775 |  4.368712e+04 | 20 | NA | NA | 0.00 |    -6035.596 | NA | 0.05 | infill_ei  | 0.29 |    16208.09 |   43679.6252 |\n",
       "|   5.2610924 | -1.972894e+03 | 21 | NA | NA | 0.00 |    -4903.518 | NA | 0.03 | infill_ei  | 0.31 |    50589.81 |   -1947.8344 |\n",
       "|  -5.5520713 |  3.925910e+04 | 22 | NA | NA | 0.00 |    -4077.283 | NA | 0.05 | infill_ei  | 0.31 |    15992.04 |   39260.1754 |\n",
       "|  11.5167159 |  1.411495e+04 | 23 | NA | NA | 0.00 |    -3841.402 | NA | 0.04 | infill_ei  | 0.31 |    35398.38 |   14209.5666 |\n",
       "|   1.8699723 |  2.953296e+03 | 24 | NA | NA | 0.00 |    -3332.135 | NA | 0.05 | infill_ei  | 0.36 |    41032.45 |    2976.3855 |\n",
       "|   8.5617756 |  3.909968e+03 | 25 | NA | NA | 0.00 |    -2728.341 | NA | 0.03 | infill_ei  | 0.33 |    37808.89 |    3936.9378 |\n",
       "\n"
      ],
      "text/plain": [
       "   x           y             dob eol error.message exec.time ei          \n",
       "1   19.8608962 -1.226908e+04  0  NA  NA            0.01                NA\n",
       "2  -31.1071961 -2.358492e+06  0  NA  NA            0.00                NA\n",
       "3   83.7589685 -7.768569e+07  0  NA  NA            0.00                NA\n",
       "4  -52.3415338 -1.843460e+07  0  NA  NA            0.00                NA\n",
       "5   -2.8964424  2.581945e+04  1  NA  NA            0.00      -8820117.384\n",
       "6   10.0956662  9.034606e+03  2  NA  NA            0.00      -2462665.828\n",
       "7  -16.7565349 -1.260860e+05  3  NA  NA            0.00      -1742145.960\n",
       "8   15.6158418  2.105238e+04  4  NA  NA            0.00       -460060.230\n",
       "9   -9.5721213  4.081169e+04  5  NA  NA            0.00       -324731.726\n",
       "10   3.5623744 -9.885923e+02  6  NA  NA            0.00       -239035.678\n",
       "11 -22.1230492 -5.489901e+05  7  NA  NA            0.00       -106641.695\n",
       "12  -6.3263177  4.201341e+04  8  NA  NA            0.00        -88356.618\n",
       "13 -12.7181050  5.542300e+03  9  NA  NA            0.00        -66003.989\n",
       "14  17.8833634  1.117199e+04 10  NA  NA            0.00        -56334.857\n",
       "15   0.2927395  9.030877e+03 11  NA  NA            0.00        -51791.151\n",
       "16   6.9499348 -9.507948e+01 12  NA  NA            0.00        -45084.749\n",
       "17  12.9171856  1.850231e+04 13  NA  NA            0.00        -36855.750\n",
       "18  -7.9440158  4.455968e+04 14  NA  NA            0.00        -24240.646\n",
       "19  -4.6836592  3.536373e+04 15  NA  NA            0.00        -18085.417\n",
       "20 -10.9772848  3.047221e+04 16  NA  NA            0.00        -13069.023\n",
       "21  -1.3606430  1.727988e+04 17  NA  NA            0.00         -8786.856\n",
       "22  -7.1664132  4.396808e+04 18  NA  NA            0.00         -6928.556\n",
       "23  14.2829801  2.115059e+04 19  NA  NA            0.00         -6481.472\n",
       "24  -8.7337775  4.368712e+04 20  NA  NA            0.00         -6035.596\n",
       "25   5.2610924 -1.972894e+03 21  NA  NA            0.00         -4903.518\n",
       "26  -5.5520713  3.925910e+04 22  NA  NA            0.00         -4077.283\n",
       "27  11.5167159  1.411495e+04 23  NA  NA            0.00         -3841.402\n",
       "28   1.8699723  2.953296e+03 24  NA  NA            0.00         -3332.135\n",
       "29   8.5617756  3.909968e+03 25  NA  NA            0.00         -2728.341\n",
       "   error.model train.time prop.type  propose.time se          mean        \n",
       "1  NA            NA       initdesign   NA                  NA           NA\n",
       "2  NA            NA       initdesign   NA                  NA           NA\n",
       "3  NA            NA       initdesign   NA                  NA           NA\n",
       "4  NA            NA       initdesign   NA                  NA           NA\n",
       "5  NA          0.09       infill_ei  0.24         14512175.14 5285758.1180\n",
       "6  NA          0.05       infill_ei  0.25          3913720.72 1584139.6388\n",
       "7  NA          0.03       infill_ei  0.47          3398149.20  739245.3361\n",
       "8  NA          0.03       infill_ei  0.29           693085.12  337830.1144\n",
       "9  NA          0.05       infill_ei  0.28           872707.60  -22085.8334\n",
       "10 NA          0.02       infill_ei  0.25           626832.70   18423.9582\n",
       "11 NA          0.03       infill_ei  0.25           660228.67 -372819.1853\n",
       "12 NA          0.04       infill_ei  0.26           220708.56   41424.2984\n",
       "13 NA          0.02       infill_ei  0.28           202660.34   10352.5709\n",
       "14 NA          0.02       infill_ei  0.28           113528.06   62613.6635\n",
       "15 NA          0.01       infill_ei  0.32           167310.08    9604.9871\n",
       "16 NA          0.05       infill_ei  0.36           161015.73    -805.0745\n",
       "17 NA          0.01       infill_ei  0.29           115985.00   21777.3202\n",
       "18 NA          0.03       infill_ei  0.28            57350.80   44685.7153\n",
       "19 NA          0.04       infill_ei  0.29            56070.45   35396.7187\n",
       "20 NA          0.05       infill_ei  0.28            48699.97   30152.7753\n",
       "21 NA          0.03       infill_ei  0.30            48767.49   17295.1100\n",
       "22 NA          0.09       infill_ei  0.41            18094.83   43971.5808\n",
       "23 NA          0.03       infill_ei  0.32            37691.20   22393.8176\n",
       "24 NA          0.05       infill_ei  0.29            16208.09   43679.6252\n",
       "25 NA          0.03       infill_ei  0.31            50589.81   -1947.8344\n",
       "26 NA          0.05       infill_ei  0.31            15992.04   39260.1754\n",
       "27 NA          0.04       infill_ei  0.31            35398.38   14209.5666\n",
       "28 NA          0.05       infill_ei  0.36            41032.45    2976.3855\n",
       "29 NA          0.03       infill_ei  0.33            37808.89    3936.9378"
      ]
     },
     "metadata": {},
     "output_type": "display_data"
    }
   ],
   "source": [
    "tb_resultados"
   ]
  },
  {
   "cell_type": "code",
   "execution_count": 14,
   "metadata": {
    "tags": [],
    "vscode": {
     "languageId": "r"
    }
   },
   "outputs": [
    {
     "data": {
      "text/html": [
       "<table class=\"dataframe\">\n",
       "<caption>A data.table: 1 × 13</caption>\n",
       "<thead>\n",
       "\t<tr><th scope=col>x</th><th scope=col>y</th><th scope=col>dob</th><th scope=col>eol</th><th scope=col>error.message</th><th scope=col>exec.time</th><th scope=col>ei</th><th scope=col>error.model</th><th scope=col>train.time</th><th scope=col>prop.type</th><th scope=col>propose.time</th><th scope=col>se</th><th scope=col>mean</th></tr>\n",
       "\t<tr><th scope=col>&lt;dbl&gt;</th><th scope=col>&lt;dbl&gt;</th><th scope=col>&lt;int&gt;</th><th scope=col>&lt;int&gt;</th><th scope=col>&lt;chr&gt;</th><th scope=col>&lt;dbl&gt;</th><th scope=col>&lt;dbl&gt;</th><th scope=col>&lt;chr&gt;</th><th scope=col>&lt;dbl&gt;</th><th scope=col>&lt;chr&gt;</th><th scope=col>&lt;dbl&gt;</th><th scope=col>&lt;dbl&gt;</th><th scope=col>&lt;dbl&gt;</th></tr>\n",
       "</thead>\n",
       "<tbody>\n",
       "\t<tr><td>-7.944016</td><td>44559.68</td><td>14</td><td>NA</td><td>NA</td><td>0</td><td>-24240.65</td><td>NA</td><td>0.03</td><td>infill_ei</td><td>0.28</td><td>57350.8</td><td>44685.72</td></tr>\n",
       "</tbody>\n",
       "</table>\n"
      ],
      "text/latex": [
       "A data.table: 1 × 13\n",
       "\\begin{tabular}{lllllllllllll}\n",
       " x & y & dob & eol & error.message & exec.time & ei & error.model & train.time & prop.type & propose.time & se & mean\\\\\n",
       " <dbl> & <dbl> & <int> & <int> & <chr> & <dbl> & <dbl> & <chr> & <dbl> & <chr> & <dbl> & <dbl> & <dbl>\\\\\n",
       "\\hline\n",
       "\t -7.944016 & 44559.68 & 14 & NA & NA & 0 & -24240.65 & NA & 0.03 & infill\\_ei & 0.28 & 57350.8 & 44685.72\\\\\n",
       "\\end{tabular}\n"
      ],
      "text/markdown": [
       "\n",
       "A data.table: 1 × 13\n",
       "\n",
       "| x &lt;dbl&gt; | y &lt;dbl&gt; | dob &lt;int&gt; | eol &lt;int&gt; | error.message &lt;chr&gt; | exec.time &lt;dbl&gt; | ei &lt;dbl&gt; | error.model &lt;chr&gt; | train.time &lt;dbl&gt; | prop.type &lt;chr&gt; | propose.time &lt;dbl&gt; | se &lt;dbl&gt; | mean &lt;dbl&gt; |\n",
       "|---|---|---|---|---|---|---|---|---|---|---|---|---|\n",
       "| -7.944016 | 44559.68 | 14 | NA | NA | 0 | -24240.65 | NA | 0.03 | infill_ei | 0.28 | 57350.8 | 44685.72 |\n",
       "\n"
      ],
      "text/plain": [
       "  x         y        dob eol error.message exec.time ei        error.model\n",
       "1 -7.944016 44559.68 14  NA  NA            0         -24240.65 NA         \n",
       "  train.time prop.type propose.time se      mean    \n",
       "1 0.03       infill_ei 0.28         57350.8 44685.72"
      ]
     },
     "metadata": {},
     "output_type": "display_data"
    }
   ],
   "source": [
    "tb_resultados[ which.max( tb_resultados$y ) ]"
   ]
  },
  {
   "cell_type": "markdown",
   "metadata": {},
   "source": [
    "### Conclusiones"
   ]
  },
  {
   "cell_type": "markdown",
   "metadata": {},
   "source": [
    "La gran pregunta es :  la Optimización Bayesiana, ¿se focaliza luego de muchas iteraciones solo en el entorno del máximo que está cerca de x= -8 ?"
   ]
  }
 ],
 "metadata": {
  "kernelspec": {
   "display_name": "R",
   "language": "R",
   "name": "ir"
  },
  "language_info": {
   "codemirror_mode": "r",
   "file_extension": ".r",
   "mimetype": "text/x-r-source",
   "name": "R",
   "pygments_lexer": "r",
   "version": "4.2.3"
  }
 },
 "nbformat": 4,
 "nbformat_minor": 4
}
